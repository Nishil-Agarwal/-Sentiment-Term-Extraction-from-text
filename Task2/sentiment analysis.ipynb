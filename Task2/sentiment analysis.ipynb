{
 "cells": [
  {
   "cell_type": "code",
   "execution_count": 16,
   "metadata": {
    "execution": {
     "iopub.execute_input": "2025-03-15T11:58:16.240998Z",
     "iopub.status.busy": "2025-03-15T11:58:16.240679Z",
     "iopub.status.idle": "2025-03-15T11:58:16.245519Z",
     "shell.execute_reply": "2025-03-15T11:58:16.244592Z",
     "shell.execute_reply.started": "2025-03-15T11:58:16.240977Z"
    },
    "trusted": true
   },
   "outputs": [],
   "source": [
    "import json\n",
    "import string\n",
    "import torch\n",
    "import torch.nn as nn\n",
    "import torch.nn.functional as F\n",
    "from torch.utils.data import Dataset, DataLoader\n",
    "from transformers import BertTokenizer, BertModel\n",
    "import numpy as np\n",
    "import matplotlib.pyplot as plt\n",
    "from tqdm import tqdm\n"
   ]
  },
  {
   "cell_type": "code",
   "execution_count": 9,
   "metadata": {
    "_cell_guid": "b1076dfc-b9ad-4769-8c92-a6c4dae69d19",
    "_uuid": "8f2839f25d086af736a60e9eeb907d3b93b6e0e5",
    "execution": {
     "iopub.execute_input": "2025-03-15T11:55:49.246768Z",
     "iopub.status.busy": "2025-03-15T11:55:49.246488Z",
     "iopub.status.idle": "2025-03-15T11:55:49.256816Z",
     "shell.execute_reply": "2025-03-15T11:55:49.255920Z",
     "shell.execute_reply.started": "2025-03-15T11:55:49.246747Z"
    },
    "trusted": true
   },
   "outputs": [],
   "source": [
    "\n",
    "def clean_text(text):\n",
    "    for ch in [\",\", \".\", \"!\", \"?\", \";\", \":\", \"\\\"\", \"'\", \"(\", \")\", \"_\", \"-\", \"/\", \"\\\\\"]:\n",
    "        text = text.replace(ch, \"\")\n",
    "    return text\n",
    "\n",
    "def simple_tokenize(text):\n",
    "    cleaned = clean_text(text)\n",
    "    return cleaned.split()\n",
    "\n",
    "def levenshtein_distance(s1, s2):\n",
    "    m, n = len(s1), len(s2)\n",
    "    # Initialize DP table\n",
    "    dp = [[0] * (n + 1) for _ in range(m + 1)]\n",
    "    \n",
    "    for i in range(m + 1):\n",
    "        dp[i][0] = i\n",
    "    for j in range(n + 1):\n",
    "        dp[0][j] = j\n",
    "\n",
    "    for i in range(1, m + 1):\n",
    "        for j in range(1, n + 1):\n",
    "            if s1[i - 1] == s2[j - 1]:\n",
    "                dp[i][j] = dp[i - 1][j - 1]\n",
    "            else:\n",
    "                dp[i][j] = 1 + min(dp[i - 1][j],   \n",
    "                                   dp[i][j - 1],   \n",
    "                                   dp[i - 1][j - 1]) \n",
    "    return dp[m][n]\n",
    "\n",
    "def token_matches(token, aspect):\n",
    "    \n",
    "    token_clean = clean_text(token).lower()\n",
    "    aspect_clean = clean_text(aspect).lower()\n",
    "    \n",
    "    if token_clean == aspect_clean:\n",
    "        return True\n",
    "    \n",
    "    if token_clean.endswith('s') and token_clean[:-1] == aspect_clean:\n",
    "        return True\n",
    "\n",
    "    if aspect_clean in token_clean:\n",
    "        return True\n",
    "    \n",
    "    # 3. Fuzzy matching using Levenshtein distance.\n",
    "    threshold = max(1, int(0.2 * len(aspect_clean)))  # Allow ~20% differences.\n",
    "    distance = levenshtein_distance(token_clean, aspect_clean)\n",
    "    if distance <= threshold:\n",
    "        return True\n",
    "\n",
    "    \n",
    "    return False\n",
    "\n",
    "\n",
    "def preprocess_file(input_path, output_path):\n",
    "    with open(input_path, 'r') as infile:\n",
    "        data = json.load(infile)\n",
    "    \n",
    "    new_data = []\n",
    "    \n",
    "    for item in data:\n",
    "        sentence = item['sentence']\n",
    "        tokens = simple_tokenize(sentence)\n",
    "        \n",
    "        \n",
    "        for aspect in item.get('aspect_terms', []):\n",
    "            term = aspect.get('term', \"\")\n",
    "            polarity = aspect.get('polarity', \"\")\n",
    "            \n",
    "            term_tokens = simple_tokenize(term)\n",
    "            aspect_word = term_tokens[0] if term_tokens else term\n",
    "            \n",
    "            index = -1\n",
    "            for i, token in enumerate(tokens):\n",
    "                if token_matches(token, aspect_word):\n",
    "                    index = i\n",
    "                    break\n",
    "            \n",
    "            new_instance = {\n",
    "                \"tokens\": tokens,\n",
    "                \"polarity\": polarity,\n",
    "                \"aspectterm\": [term],\n",
    "                \"index\": index\n",
    "            }\n",
    "            new_data.append(new_instance)\n",
    "    \n",
    "    with open(output_path, 'w') as outfile:\n",
    "        json.dump(new_data, outfile, indent=4)\n"
   ]
  },
  {
   "cell_type": "code",
   "execution_count": 10,
   "metadata": {
    "execution": {
     "iopub.execute_input": "2025-03-15T11:55:54.173537Z",
     "iopub.status.busy": "2025-03-15T11:55:54.173192Z",
     "iopub.status.idle": "2025-03-15T11:55:54.728475Z",
     "shell.execute_reply": "2025-03-15T11:55:54.727767Z",
     "shell.execute_reply.started": "2025-03-15T11:55:54.173513Z"
    },
    "trusted": true
   },
   "outputs": [],
   "source": [
    "train_input = '/kaggle/input/a2task2/train.json'\n",
    "val_input   = '/kaggle/input/a2task2/val.json'\n",
    "\n",
    "preprocess_file(train_input, 'train_task2.json')\n",
    "preprocess_file(val_input, 'val_task2.json')"
   ]
  },
  {
   "cell_type": "code",
   "execution_count": 17,
   "metadata": {
    "execution": {
     "iopub.execute_input": "2025-03-15T11:58:29.745377Z",
     "iopub.status.busy": "2025-03-15T11:58:29.745014Z",
     "iopub.status.idle": "2025-03-15T11:58:29.752819Z",
     "shell.execute_reply": "2025-03-15T11:58:29.751851Z",
     "shell.execute_reply.started": "2025-03-15T11:58:29.745347Z"
    },
    "trusted": true
   },
   "outputs": [],
   "source": [
    "device = torch.device(\"cuda\" if torch.cuda.is_available() else \"cpu\")\n",
    "\n",
    "label2id = {\"negative\": 0, \"neutral\": 1, \"positive\": 2}\n",
    "\n",
    "class ABSADataset(Dataset):\n",
    "    def __init__(self, json_path, tokenizer, max_context_len=128, max_aspect_len=16):\n",
    "        with open(json_path, 'r') as f:\n",
    "            data = json.load(f)\n",
    "        self.samples = data\n",
    "        self.tokenizer = tokenizer\n",
    "        self.max_context_len = max_context_len\n",
    "        self.max_aspect_len = max_aspect_len\n",
    "\n",
    "    def __len__(self):\n",
    "        return len(self.samples)\n",
    "    \n",
    "    def __getitem__(self, idx):\n",
    "        sample = self.samples[idx]\n",
    "        context = \" \".join(sample[\"tokens\"])\n",
    "        if isinstance(sample[\"aspectterm\"], list):\n",
    "            aspect = \" \".join(sample[\"aspectterm\"])\n",
    "        else:\n",
    "            aspect = sample[\"aspectterm\"]\n",
    "        # aspect term is retrieved from the .json not from the tokenized sample itself \n",
    "        polarity_str = sample[\"polarity\"]\n",
    "        label = label2id.get(polarity_str.lower(), 1)  # create mapping\n",
    "        \n",
    "        context_enc = self.tokenizer.encode_plus( #using bert\n",
    "            context,\n",
    "            add_special_tokens=True,\n",
    "            max_length=self.max_context_len,\n",
    "            padding='max_length',\n",
    "            truncation=True,\n",
    "            return_tensors='pt'\n",
    "        )\n",
    "        aspect_enc = self.tokenizer.encode_plus(     #using bert \n",
    "            aspect,\n",
    "            add_special_tokens=True,\n",
    "            max_length=self.max_aspect_len,\n",
    "            padding='max_length',\n",
    "            truncation=True,\n",
    "            return_tensors='pt'\n",
    "        )\n",
    "        \n",
    "        context_input_ids = context_enc['input_ids'].squeeze(0)\n",
    "        context_attention_mask = context_enc['attention_mask'].squeeze(0)\n",
    "        aspect_input_ids = aspect_enc['input_ids'].squeeze(0)\n",
    "        aspect_attention_mask = aspect_enc['attention_mask'].squeeze(0)\n",
    "        \n",
    "        return {\n",
    "            \"context_input_ids\": context_input_ids,\n",
    "            \"context_attention_mask\": context_attention_mask,\n",
    "            \"aspect_input_ids\": aspect_input_ids,\n",
    "            \"aspect_attention_mask\": aspect_attention_mask,\n",
    "            \"label\": torch.tensor(label, dtype=torch.long)\n",
    "        }\n"
   ]
  },
  {
   "cell_type": "code",
   "execution_count": 18,
   "metadata": {
    "execution": {
     "iopub.execute_input": "2025-03-15T11:58:34.174759Z",
     "iopub.status.busy": "2025-03-15T11:58:34.174459Z",
     "iopub.status.idle": "2025-03-15T11:58:34.180087Z",
     "shell.execute_reply": "2025-03-15T11:58:34.179118Z",
     "shell.execute_reply.started": "2025-03-15T11:58:34.174736Z"
    },
    "trusted": true
   },
   "outputs": [],
   "source": [
    "class Attention(nn.Module):\n",
    "    def __init__(self, hidden_dim):\n",
    "        super(Attention, self).__init__()\n",
    "        self.linear = nn.Linear(hidden_dim, hidden_dim)\n",
    "        self.tanh = nn.Tanh()\n",
    "        self.softmax = nn.Softmax(dim=1)\n",
    "    \n",
    "    def forward(self, hidden_states, guide_vector):\n",
    "        guide = guide_vector.unsqueeze(1)\n",
    "        projected = self.tanh(self.linear(hidden_states))\n",
    "        scores = (projected * guide).sum(dim=2)\n",
    "        weights = self.softmax(scores)\n",
    "        weighted_sum = torch.bmm(weights.unsqueeze(1), hidden_states).squeeze(1)\n",
    "        return weighted_sum, weights"
   ]
  },
  {
   "cell_type": "code",
   "execution_count": 21,
   "metadata": {
    "execution": {
     "iopub.execute_input": "2025-03-15T11:59:53.903226Z",
     "iopub.status.busy": "2025-03-15T11:59:53.902936Z",
     "iopub.status.idle": "2025-03-15T11:59:53.918526Z",
     "shell.execute_reply": "2025-03-15T11:59:53.917429Z",
     "shell.execute_reply.started": "2025-03-15T11:59:53.903204Z"
    },
    "trusted": true
   },
   "outputs": [],
   "source": [
    "class IAN_Model(nn.Module):\n",
    "    def __init__(self, bert_model, hidden_dim, num_labels, dropout=0.5, cell_type=\"gru\"):\n",
    "        super(IAN_Model, self).__init__()\n",
    "        self.bert = bert_model\n",
    "        self.bert_hidden_size = bert_model.config.hidden_size\n",
    "        self.hidden_dim = hidden_dim\n",
    "        self.cell_type = cell_type.lower()\n",
    "        \n",
    "        if self.cell_type == \"gru\":\n",
    "            self.rnn_context = nn.GRU(input_size=self.bert_hidden_size, hidden_size=hidden_dim,\n",
    "                                      num_layers=1, batch_first=True, bidirectional=True)\n",
    "            self.rnn_aspect = nn.GRU(input_size=self.bert_hidden_size, hidden_size=hidden_dim,\n",
    "                                     num_layers=1, batch_first=True, bidirectional=True)\n",
    "        elif self.cell_type == \"lstm\":\n",
    "            self.rnn_context = nn.LSTM(input_size=self.bert_hidden_size, hidden_size=hidden_dim,\n",
    "                                       num_layers=1, batch_first=True, bidirectional=True)\n",
    "            self.rnn_aspect = nn.LSTM(input_size=self.bert_hidden_size, hidden_size=hidden_dim,\n",
    "                                      num_layers=1, batch_first=True, bidirectional=True)\n",
    "        else:\n",
    "            raise ValueError(\"Unsupported cell type. Choose 'gru' or 'lstm'.\")\n",
    "        \n",
    "        self.attention_context = Attention(hidden_dim * 2)\n",
    "        self.attention_aspect = Attention(hidden_dim * 2)\n",
    "        self.dropout = nn.Dropout(dropout)\n",
    "        self.fc = nn.Linear(hidden_dim * 4, num_labels)\n",
    "    \n",
    "    def forward(self, context_input_ids, context_attention_mask, \n",
    "                aspect_input_ids, aspect_attention_mask):\n",
    "        context_outputs = self.bert(input_ids=context_input_ids, attention_mask=context_attention_mask)\n",
    "        aspect_outputs = self.bert(input_ids=aspect_input_ids, attention_mask=aspect_attention_mask)\n",
    "        context_embeds = context_outputs.last_hidden_state\n",
    "        aspect_embeds = aspect_outputs.last_hidden_state\n",
    "        \n",
    "        if self.cell_type == \"gru\":\n",
    "            context_rnn, _ = self.rnn_context(context_embeds)\n",
    "            aspect_rnn, _ = self.rnn_aspect(aspect_embeds)\n",
    "        else:  # lstm\n",
    "            context_rnn, _ = self.rnn_context(context_embeds)\n",
    "            aspect_rnn, _ = self.rnn_aspect(aspect_embeds)\n",
    "        \n",
    "        context_mask = context_attention_mask.unsqueeze(-1).float()\n",
    "        aspect_mask = aspect_attention_mask.unsqueeze(-1).float()\n",
    "        context_sum = torch.sum(context_rnn * context_mask, dim=1)\n",
    "        aspect_sum = torch.sum(aspect_rnn * aspect_mask, dim=1)\n",
    "        context_lengths = torch.clamp(torch.sum(context_mask, dim=1), min=1e-9)\n",
    "        aspect_lengths = torch.clamp(torch.sum(aspect_mask, dim=1), min=1e-9)\n",
    "        context_pool = context_sum / context_lengths\n",
    "        aspect_pool = aspect_sum / aspect_lengths\n",
    "        \n",
    "        context_final, _ = self.attention_context(context_rnn, aspect_pool)\n",
    "        aspect_final, _ = self.attention_aspect(aspect_rnn, context_pool)\n",
    "        final_rep = torch.cat((context_final, aspect_final), dim=1)\n",
    "        final_rep = self.dropout(final_rep)\n",
    "        logits = self.fc(final_rep)\n",
    "        return logits\n",
    "\n",
    "def train_model(model, dataloader, optimizer, criterion, device):\n",
    "    model.train()\n",
    "    total_loss = 0.0\n",
    "    total_correct = 0\n",
    "    total_samples = 0\n",
    "    for batch in tqdm(dataloader):\n",
    "        optimizer.zero_grad()\n",
    "        context_input_ids = batch[\"context_input_ids\"].to(device)\n",
    "        context_attention_mask = batch[\"context_attention_mask\"].to(device)\n",
    "        aspect_input_ids = batch[\"aspect_input_ids\"].to(device)\n",
    "        aspect_attention_mask = batch[\"aspect_attention_mask\"].to(device)\n",
    "        labels = batch[\"label\"].to(device)\n",
    "        \n",
    "        logits = model(context_input_ids, context_attention_mask, \n",
    "                       aspect_input_ids, aspect_attention_mask)\n",
    "        loss = criterion(logits, labels)\n",
    "        loss.backward()\n",
    "        optimizer.step()\n",
    "        \n",
    "        total_loss += loss.item() * labels.size(0)\n",
    "        preds = torch.argmax(logits, dim=1)\n",
    "        total_correct += (preds == labels).sum().item()\n",
    "        total_samples += labels.size(0)\n",
    "    \n",
    "    avg_loss = total_loss / total_samples\n",
    "    accuracy = total_correct / total_samples\n",
    "    return avg_loss, accuracy\n",
    "\n",
    "def evaluate_model(model, dataloader, criterion, device):\n",
    "    model.eval()\n",
    "    total_loss = 0.0\n",
    "    total_correct = 0\n",
    "    total_samples = 0\n",
    "    with torch.no_grad():\n",
    "        for batch in dataloader:\n",
    "            context_input_ids = batch[\"context_input_ids\"].to(device)\n",
    "            context_attention_mask = batch[\"context_attention_mask\"].to(device)\n",
    "            aspect_input_ids = batch[\"aspect_input_ids\"].to(device)\n",
    "            aspect_attention_mask = batch[\"aspect_attention_mask\"].to(device)\n",
    "            labels = batch[\"label\"].to(device)\n",
    "            \n",
    "            logits = model(context_input_ids, context_attention_mask,\n",
    "                           aspect_input_ids, aspect_attention_mask)\n",
    "            loss = criterion(logits, labels)\n",
    "            total_loss += loss.item() * labels.size(0)\n",
    "            preds = torch.argmax(logits, dim=1)\n",
    "            total_correct += (preds == labels).sum().item()\n",
    "            total_samples += labels.size(0)\n",
    "    avg_loss = total_loss / total_samples\n",
    "    accuracy = total_correct / total_samples\n",
    "    return avg_loss, accuracy"
   ]
  },
  {
   "cell_type": "code",
   "execution_count": 22,
   "metadata": {
    "execution": {
     "iopub.execute_input": "2025-03-15T11:59:58.498744Z",
     "iopub.status.busy": "2025-03-15T11:59:58.498432Z",
     "iopub.status.idle": "2025-03-15T12:14:52.521346Z",
     "shell.execute_reply": "2025-03-15T12:14:52.520445Z",
     "shell.execute_reply.started": "2025-03-15T11:59:58.498719Z"
    },
    "trusted": true
   },
   "outputs": [
    {
     "name": "stdout",
     "output_type": "stream",
     "text": [
      "Number of training samples: 2961\n",
      "Number of validation samples: 371\n"
     ]
    },
    {
     "name": "stderr",
     "output_type": "stream",
     "text": [
      "100%|██████████| 186/186 [01:25<00:00,  2.16it/s]\n"
     ]
    },
    {
     "name": "stdout",
     "output_type": "stream",
     "text": [
      "Epoch 1/10:\n",
      "  Train Loss: 0.7703, Train Acc: 0.6707\n",
      "  Val Loss: 0.6798, Val Acc: 0.7197\n",
      "  Best model updated at epoch 1 with Val Acc: 0.7197\n"
     ]
    },
    {
     "name": "stderr",
     "output_type": "stream",
     "text": [
      "100%|██████████| 186/186 [01:25<00:00,  2.18it/s]\n"
     ]
    },
    {
     "name": "stdout",
     "output_type": "stream",
     "text": [
      "Epoch 2/10:\n",
      "  Train Loss: 0.5348, Train Acc: 0.7751\n",
      "  Val Loss: 0.6472, Val Acc: 0.7224\n",
      "  Best model updated at epoch 2 with Val Acc: 0.7224\n"
     ]
    },
    {
     "name": "stderr",
     "output_type": "stream",
     "text": [
      "100%|██████████| 186/186 [01:25<00:00,  2.17it/s]\n"
     ]
    },
    {
     "name": "stdout",
     "output_type": "stream",
     "text": [
      "Epoch 3/10:\n",
      "  Train Loss: 0.4132, Train Acc: 0.8352\n",
      "  Val Loss: 0.6597, Val Acc: 0.7116\n"
     ]
    },
    {
     "name": "stderr",
     "output_type": "stream",
     "text": [
      "100%|██████████| 186/186 [01:25<00:00,  2.17it/s]\n"
     ]
    },
    {
     "name": "stdout",
     "output_type": "stream",
     "text": [
      "Epoch 4/10:\n",
      "  Train Loss: 0.3436, Train Acc: 0.8642\n",
      "  Val Loss: 0.7312, Val Acc: 0.6792\n"
     ]
    },
    {
     "name": "stderr",
     "output_type": "stream",
     "text": [
      "100%|██████████| 186/186 [01:25<00:00,  2.18it/s]\n"
     ]
    },
    {
     "name": "stdout",
     "output_type": "stream",
     "text": [
      "Epoch 5/10:\n",
      "  Train Loss: 0.2569, Train Acc: 0.9014\n",
      "  Val Loss: 0.7948, Val Acc: 0.7035\n"
     ]
    },
    {
     "name": "stderr",
     "output_type": "stream",
     "text": [
      "100%|██████████| 186/186 [01:25<00:00,  2.17it/s]\n"
     ]
    },
    {
     "name": "stdout",
     "output_type": "stream",
     "text": [
      "Epoch 6/10:\n",
      "  Train Loss: 0.2160, Train Acc: 0.9227\n",
      "  Val Loss: 0.8215, Val Acc: 0.6469\n"
     ]
    },
    {
     "name": "stderr",
     "output_type": "stream",
     "text": [
      "100%|██████████| 186/186 [01:25<00:00,  2.18it/s]\n"
     ]
    },
    {
     "name": "stdout",
     "output_type": "stream",
     "text": [
      "Epoch 7/10:\n",
      "  Train Loss: 0.1596, Train Acc: 0.9392\n",
      "  Val Loss: 0.8338, Val Acc: 0.6927\n"
     ]
    },
    {
     "name": "stderr",
     "output_type": "stream",
     "text": [
      "100%|██████████| 186/186 [01:25<00:00,  2.17it/s]\n"
     ]
    },
    {
     "name": "stdout",
     "output_type": "stream",
     "text": [
      "Epoch 8/10:\n",
      "  Train Loss: 0.1396, Train Acc: 0.9510\n",
      "  Val Loss: 0.9017, Val Acc: 0.6954\n"
     ]
    },
    {
     "name": "stderr",
     "output_type": "stream",
     "text": [
      "100%|██████████| 186/186 [01:25<00:00,  2.18it/s]\n"
     ]
    },
    {
     "name": "stdout",
     "output_type": "stream",
     "text": [
      "Epoch 9/10:\n",
      "  Train Loss: 0.1138, Train Acc: 0.9612\n",
      "  Val Loss: 0.9751, Val Acc: 0.6846\n"
     ]
    },
    {
     "name": "stderr",
     "output_type": "stream",
     "text": [
      "100%|██████████| 186/186 [01:25<00:00,  2.18it/s]\n"
     ]
    },
    {
     "name": "stdout",
     "output_type": "stream",
     "text": [
      "Epoch 10/10:\n",
      "  Train Loss: 0.0829, Train Acc: 0.9710\n",
      "  Val Loss: 0.9465, Val Acc: 0.7035\n"
     ]
    },
    {
     "data": {
      "image/png": "[encoded data removed]",
      "text/plain": [
       "<Figure size 1200x500 with 2 Axes>"
      ]
     },
     "metadata": {},
     "output_type": "display_data"
    },
    {
     "name": "stdout",
     "output_type": "stream",
     "text": [
      "Training complete. Best model (Val Acc: 0.7224) from epoch 2 saved as 'best_model.pt'.\n"
     ]
    }
   ],
   "source": [
    "num_epochs = 10\n",
    "batch_size = 16\n",
    "learning_rate = 2e-5\n",
    "hidden_dim = 128\n",
    "num_labels = 3\n",
    "\n",
    "cell_type = \"gru\"  \n",
    "\n",
    "tokenizer = BertTokenizer.from_pretrained(\"bert-base-uncased\")\n",
    "bert_model = BertModel.from_pretrained(\"bert-base-uncased\")\n",
    "bert_model.to(device)\n",
    "\n",
    "\n",
    "train_dataset = ABSADataset(\"/kaggle/working/train_task2.json\", tokenizer)\n",
    "val_dataset = ABSADataset(\"/kaggle/working/val_task2.json\", tokenizer)\n",
    "\n",
    "print(f\"Number of training samples: {len(train_dataset)}\")\n",
    "print(f\"Number of validation samples: {len(val_dataset)}\")\n",
    "\n",
    "train_loader = DataLoader(train_dataset, batch_size=batch_size, shuffle=True)\n",
    "val_loader = DataLoader(val_dataset, batch_size=batch_size, shuffle=False)\n",
    "\n",
    "model = IAN_Model(bert_model, hidden_dim, num_labels, dropout=0.5, cell_type=cell_type)\n",
    "model.to(device)\n",
    "\n",
    "criterion = nn.CrossEntropyLoss()\n",
    "optimizer = torch.optim.AdamW(model.parameters(), lr=learning_rate)\n",
    "\n",
    "best_val_acc = 0.0\n",
    "best_epoch = -1\n",
    "\n",
    "train_losses = []\n",
    "train_accs = []\n",
    "val_losses = []\n",
    "val_accs = []\n",
    "\n",
    "for epoch in range(num_epochs):\n",
    "    train_loss, train_acc = train_model(model, train_loader, optimizer, criterion, device)\n",
    "    val_loss, val_acc = evaluate_model(model, val_loader, criterion, device)\n",
    "    \n",
    "    train_losses.append(train_loss)\n",
    "    train_accs.append(train_acc)\n",
    "    val_losses.append(val_loss)\n",
    "    val_accs.append(val_acc)\n",
    "    \n",
    "    print(f\"Epoch {epoch+1}/{num_epochs}:\")\n",
    "    print(f\"  Train Loss: {train_loss:.4f}, Train Acc: {train_acc:.4f}\")\n",
    "    print(f\"  Val Loss: {val_loss:.4f}, Val Acc: {val_acc:.4f}\")\n",
    "    \n",
    "    if val_acc > best_val_acc:\n",
    "        best_val_acc = val_acc\n",
    "        best_epoch = epoch + 1\n",
    "        torch.save(model.state_dict(), \"best_model.pt\")\n",
    "        print(f\"  Best model updated at epoch {epoch+1} with Val Acc: {val_acc:.4f}\")\n",
    "\n",
    "\n",
    "epochs = np.arange(1, num_epochs+1)\n",
    "\n",
    "plt.figure(figsize=(12,5))\n",
    "plt.subplot(1, 2, 1)\n",
    "plt.plot(epochs, train_losses, label=\"Train Loss\")\n",
    "plt.plot(epochs, val_losses, label=\"Validation Loss\")\n",
    "plt.xlabel(\"Epoch\")\n",
    "plt.ylabel(\"Loss\")\n",
    "plt.title(\"Training and Validation Loss\")\n",
    "plt.legend()\n",
    "\n",
    "# Plot Accuracy\n",
    "plt.subplot(1, 2, 2)\n",
    "plt.plot(epochs, train_accs, label=\"Train Accuracy\")\n",
    "plt.plot(epochs, val_accs, label=\"Validation Accuracy\")\n",
    "plt.xlabel(\"Epoch\")\n",
    "plt.ylabel(\"Accuracy\")\n",
    "plt.title(\"Training and Validation Accuracy\")\n",
    "plt.legend()\n",
    "\n",
    "plt.tight_layout()\n",
    "plt.show()\n",
    "\n",
    "print(f\"Training complete. Best model (Val Acc: {best_val_acc:.4f}) from epoch {best_epoch} saved as 'best_model.pt'.\")\n"
   ]
  },
  {
   "cell_type": "code",
   "execution_count": null,
   "metadata": {
    "execution": {
     "iopub.execute_input": "2025-03-15T12:18:48.447169Z",
     "iopub.status.busy": "2025-03-15T12:18:48.446845Z",
     "iopub.status.idle": "2025-03-15T12:18:52.962245Z",
     "shell.execute_reply": "2025-03-15T12:18:52.961266Z",
     "shell.execute_reply.started": "2025-03-15T12:18:48.447144Z"
    },
    "trusted": true
   },
   "outputs": [
    {
     "name": "stderr",
     "output_type": "stream",
     "text": [
      "<ipython-input-26-88b082c25cb4>:23: FutureWarning: You are using `torch.load` with `weights_only=False` (the current default value), which uses the default pickle module implicitly. It is possible to construct malicious pickle data which will execute arbitrary code during unpickling (See https://github.com/pytorch/pytorch/blob/main/SECURITY.md#untrusted-models for more details). In a future release, the default value for `weights_only` will be flipped to `True`. This limits the functions that could be executed during unpickling. Arbitrary objects will no longer be allowed to be loaded via this mode unless they are explicitly allowlisted by the user via `torch.serialization.add_safe_globals`. We recommend you start setting `weights_only=True` for any use case where you don't have full control of the loaded file. Please open an issue on GitHub for any issues related to this experimental feature.\n",
      "  model.load_state_dict(torch.load(model_path, map_location=device))\n"
     ]
    },
    {
     "name": "stdout",
     "output_type": "stream",
     "text": [
      "Test Loss: 0.6472, Test Accuracy: 0.7224\n"
     ]
    }
   ],
   "source": [
    "import json\n",
    "import string\n",
    "import json\n",
    "import string\n",
    "import torch\n",
    "import torch.nn as nn\n",
    "from torch.utils.data import Dataset, DataLoader\n",
    "import numpy as np\n",
    "import matplotlib.pyplot as plt\n",
    "from transformers import BertTokenizer, BertModel\n",
    "from tqdm import tqdm\n",
    "\n",
    "\n",
    "\n",
    "def clean_text(text):\n",
    "    for ch in [\",\", \".\", \"!\", \"?\", \";\", \":\", \"\\\"\", \"'\", \"(\", \")\", \"_\", \"-\", \"/\", \"\\\\\"]:\n",
    "        text = text.replace(ch, \"\")\n",
    "    return text\n",
    "\n",
    "def simple_tokenize(text):\n",
    "    cleaned = clean_text(text)\n",
    "    return cleaned.split()\n",
    "\n",
    "def levenshtein_distance(s1, s2):\n",
    "    m, n = len(s1), len(s2)\n",
    "    # Initialize DP table\n",
    "    dp = [[0] * (n + 1) for _ in range(m + 1)]\n",
    "    \n",
    "    for i in range(m + 1):\n",
    "        dp[i][0] = i\n",
    "    for j in range(n + 1):\n",
    "        dp[0][j] = j\n",
    "\n",
    "    for i in range(1, m + 1):\n",
    "        for j in range(1, n + 1):\n",
    "            if s1[i - 1] == s2[j - 1]:\n",
    "                dp[i][j] = dp[i - 1][j - 1]\n",
    "            else:\n",
    "                dp[i][j] = 1 + min(dp[i - 1][j],   \n",
    "                                   dp[i][j - 1],   \n",
    "                                   dp[i - 1][j - 1]) \n",
    "    return dp[m][n]\n",
    "\n",
    "def token_matches(token, aspect):\n",
    "    \n",
    "    token_clean = clean_text(token).lower()\n",
    "    aspect_clean = clean_text(aspect).lower()\n",
    "    \n",
    "    if token_clean == aspect_clean:\n",
    "        return True\n",
    "    \n",
    "    if token_clean.endswith('s') and token_clean[:-1] == aspect_clean:\n",
    "        return True\n",
    "\n",
    "    if aspect_clean in token_clean:\n",
    "        return True\n",
    "    \n",
    "    # 3. Fuzzy matching using Levenshtein distance.\n",
    "    threshold = max(1, int(0.2 * len(aspect_clean)))  # Allow ~20% differences.\n",
    "    distance = levenshtein_distance(token_clean, aspect_clean)\n",
    "    if distance <= threshold:\n",
    "        return True\n",
    "\n",
    "    \n",
    "    return False\n",
    "\n",
    "\n",
    "def evaluate_model(model, dataloader, criterion, device):\n",
    "    model.eval()\n",
    "    total_loss = 0.0\n",
    "    total_correct = 0\n",
    "    total_samples = 0\n",
    "    with torch.no_grad():\n",
    "        for batch in dataloader:\n",
    "            context_input_ids = batch[\"context_input_ids\"].to(device)\n",
    "            context_attention_mask = batch[\"context_attention_mask\"].to(device)\n",
    "            aspect_input_ids = batch[\"aspect_input_ids\"].to(device)\n",
    "            aspect_attention_mask = batch[\"aspect_attention_mask\"].to(device)\n",
    "            labels = batch[\"label\"].to(device)\n",
    "            \n",
    "            logits = model(context_input_ids, context_attention_mask,\n",
    "                           aspect_input_ids, aspect_attention_mask)\n",
    "            loss = criterion(logits, labels)\n",
    "            total_loss += loss.item() * labels.size(0)\n",
    "            preds = torch.argmax(logits, dim=1)\n",
    "            total_correct += (preds == labels).sum().item()\n",
    "            total_samples += labels.size(0)\n",
    "    avg_loss = total_loss / total_samples\n",
    "    accuracy = total_correct / total_samples\n",
    "    return avg_loss, accuracy\n",
    "\n",
    "def preprocess_file(input_path, output_path):\n",
    "    with open(input_path, 'r') as infile:\n",
    "        data = json.load(infile)\n",
    "    \n",
    "    new_data = []\n",
    "    \n",
    "    for item in data:\n",
    "        sentence = item['sentence']\n",
    "        tokens = simple_tokenize(sentence)\n",
    "        \n",
    "        \n",
    "        for aspect in item.get('aspect_terms', []):\n",
    "            term = aspect.get('term', \"\")\n",
    "            polarity = aspect.get('polarity', \"\")\n",
    "            \n",
    "            term_tokens = simple_tokenize(term)\n",
    "            aspect_word = term_tokens[0] if term_tokens else term\n",
    "            \n",
    "            index = -1\n",
    "            for i, token in enumerate(tokens):\n",
    "                if token_matches(token, aspect_word):\n",
    "                    index = i\n",
    "                    break\n",
    "            \n",
    "            new_instance = {\n",
    "                \"tokens\": tokens,\n",
    "                \"polarity\": polarity,\n",
    "                \"aspectterm\": [term],\n",
    "                \"index\": index\n",
    "            }\n",
    "            new_data.append(new_instance)\n",
    "    \n",
    "    with open(output_path, 'w') as outfile:\n",
    "        json.dump(new_data, outfile, indent=4)\n",
    "        \n",
    "device = torch.device(\"cuda\" if torch.cuda.is_available() else \"cpu\")\n",
    "\n",
    "senitment_mapping = {\"negative\": 0, \"neutral\": 1, \"positive\": 2}\n",
    "\n",
    "class ABSADataset(Dataset):\n",
    "    def __init__(self, json_path, tokenizer, max_context_len=128, max_aspect_len=16):\n",
    "        with open(json_path, 'r') as f:\n",
    "            data = json.load(f)\n",
    "        self.samples = data\n",
    "        self.tokenizer = tokenizer\n",
    "        self.max_context_len = max_context_len\n",
    "        self.max_aspect_len = max_aspect_len\n",
    "\n",
    "    def __len__(self):\n",
    "        return len(self.samples)\n",
    "    \n",
    "    def __getitem__(self, idx):\n",
    "        sample = self.samples[idx]\n",
    "        context = \" \".join(sample[\"tokens\"])\n",
    "        if isinstance(sample[\"aspectterm\"], list):\n",
    "            aspect = \" \".join(sample[\"aspectterm\"])\n",
    "        else:\n",
    "            aspect = sample[\"aspectterm\"]\n",
    "        # aspect term is retrieved from the .json not from the tokenized sample itself \n",
    "        polarity_str = sample[\"polarity\"]\n",
    "        label = senitment_mapping.get(polarity_str.lower(), 1)  # create mapping\n",
    "        \n",
    "        context_enc = self.tokenizer.encode_plus(    #using bert\n",
    "            context,\n",
    "            add_special_tokens=True,\n",
    "            max_length=self.max_context_len,\n",
    "            padding='max_length',\n",
    "            truncation=True,\n",
    "            return_tensors='pt'\n",
    "        )\n",
    "        aspect_enc = self.tokenizer.encode_plus(     #using bert \n",
    "            aspect,\n",
    "            add_special_tokens=True,\n",
    "            max_length=self.max_aspect_len,\n",
    "            padding='max_length',\n",
    "            truncation=True,\n",
    "            return_tensors='pt'\n",
    "        )\n",
    "        \n",
    "        context_input_ids = context_enc['input_ids'].squeeze(0)\n",
    "        context_attention_mask = context_enc['attention_mask'].squeeze(0)\n",
    "        aspect_input_ids = aspect_enc['input_ids'].squeeze(0)\n",
    "        aspect_attention_mask = aspect_enc['attention_mask'].squeeze(0)\n",
    "        \n",
    "        return {\n",
    "            \"context_input_ids\": context_input_ids,\n",
    "            \"context_attention_mask\": context_attention_mask,\n",
    "            \"aspect_input_ids\": aspect_input_ids,\n",
    "            \"aspect_attention_mask\": aspect_attention_mask,\n",
    "            \"label\": torch.tensor(label, dtype=torch.long)\n",
    "        }\n",
    "\n",
    "        \n",
    "class Attention(nn.Module):\n",
    "    def __init__(self, hidden_dim):\n",
    "        super(Attention, self).__init__()\n",
    "        self.linear = nn.Linear(hidden_dim, hidden_dim)\n",
    "        self.tanh = nn.Tanh()\n",
    "        self.softmax = nn.Softmax(dim=1)\n",
    "    \n",
    "    def forward(self, hidden_states, guide_vector):\n",
    "        guide = guide_vector.unsqueeze(1)\n",
    "        projected = self.tanh(self.linear(hidden_states))\n",
    "        scores = (projected * guide).sum(dim=2)\n",
    "        weights = self.softmax(scores)\n",
    "        weighted_sum = torch.bmm(weights.unsqueeze(1), hidden_states).squeeze(1)\n",
    "        return weighted_sum, weights\n",
    "    \n",
    "    \n",
    "\n",
    "\n",
    "class IAN_Model(nn.Module):\n",
    "    def __init__(self, bert_model, hidden_dim, num_labels, dropout=0.5, cell_type=\"gru\"):\n",
    "        super(IAN_Model, self).__init__()\n",
    "        self.bert = bert_model\n",
    "        self.bert_hidden_size = bert_model.config.hidden_size\n",
    "        self.hidden_dim = hidden_dim\n",
    "        self.cell_type = cell_type.lower()\n",
    "        \n",
    "        if self.cell_type == \"gru\":\n",
    "            self.rnn_context = nn.GRU(input_size=self.bert_hidden_size, hidden_size=hidden_dim,\n",
    "                                      num_layers=1, batch_first=True, bidirectional=True)              # bidirectional encodings \n",
    "            self.rnn_aspect = nn.GRU(input_size=self.bert_hidden_size, hidden_size=hidden_dim,\n",
    "                                     num_layers=1, batch_first=True, bidirectional=True)               # bidirectional encodings\n",
    "        elif self.cell_type == \"lstm\":\n",
    "            self.rnn_context = nn.LSTM(input_size=self.bert_hidden_size, hidden_size=hidden_dim,\n",
    "                                       num_layers=1, batch_first=True, bidirectional=True)\n",
    "            self.rnn_aspect = nn.LSTM(input_size=self.bert_hidden_size, hidden_size=hidden_dim,\n",
    "                                      num_layers=1, batch_first=True, bidirectional=True)\n",
    "        else:\n",
    "            raise ValueError(\"Unsupported cell type. Choose 'gru' or 'lstm'.\")\n",
    "        \n",
    "        self.attention_context = Attention(hidden_dim * 2)\n",
    "        self.attention_aspect = Attention(hidden_dim * 2)\n",
    "        self.dropout = nn.Dropout(dropout)\n",
    "        self.fc = nn.Linear(hidden_dim * 4, num_labels)\n",
    "    \n",
    "    def forward(self, context_input_ids, context_attention_mask, \n",
    "                aspect_input_ids, aspect_attention_mask):\n",
    "        context_outputs = self.bert(input_ids=context_input_ids, attention_mask=context_attention_mask)\n",
    "        aspect_outputs = self.bert(input_ids=aspect_input_ids, attention_mask=aspect_attention_mask)\n",
    "        context_embeds = context_outputs.last_hidden_state\n",
    "        aspect_embeds = aspect_outputs.last_hidden_state\n",
    "        \n",
    "        if self.cell_type == \"gru\":\n",
    "            context_rnn, _ = self.rnn_context(context_embeds)\n",
    "            aspect_rnn, _ = self.rnn_aspect(aspect_embeds)\n",
    "        else: \n",
    "            context_rnn, _ = self.rnn_context(context_embeds)\n",
    "            aspect_rnn, _ = self.rnn_aspect(aspect_embeds)\n",
    "        \n",
    "        context_mask = context_attention_mask.unsqueeze(-1).float()\n",
    "        aspect_mask = aspect_attention_mask.unsqueeze(-1).float()\n",
    "        context_sum = torch.sum(context_rnn * context_mask, dim=1)\n",
    "        aspect_sum = torch.sum(aspect_rnn * aspect_mask, dim=1)\n",
    "        context_lengths = torch.clamp(torch.sum(context_mask, dim=1), min=1e-9)    # clamps all elements in input into the range [ min , max ] \n",
    "        aspect_lengths = torch.clamp(torch.sum(aspect_mask, dim=1), min=1e-9)\n",
    "        context_pool = context_sum / context_lengths\n",
    "        aspect_pool = aspect_sum / aspect_lengths\n",
    "        \n",
    "        context_final, _ = self.attention_context(context_rnn, aspect_pool)\n",
    "        aspect_final, _ = self.attention_aspect(aspect_rnn, context_pool)\n",
    "        final_rep = torch.cat((context_final, aspect_final), dim=1)\n",
    "        final_rep = self.dropout(final_rep)\n",
    "        logits = self.fc(final_rep)\n",
    "        return logits\n",
    "\n",
    "\n",
    "def test_function(model_path, test_json_path):\n",
    "    preprocess_file(test_json_path , 'test_tokenized.json')\n",
    "    test_tokenized_path = 'test_tokenized.json'\n",
    "    tokenizer = BertTokenizer.from_pretrained(\"bert-base-uncased\")\n",
    "    bert_model = BertModel.from_pretrained(\"bert-base-uncased\")\n",
    "    bert_model.to(device)\n",
    "    \n",
    "    hidden_dim = 128\n",
    "    num_labels = 3\n",
    "    cell_type = \"gru\" \n",
    "    model = IAN_Model(bert_model, hidden_dim, num_labels, dropout=0.5, cell_type=cell_type)   #The implementation of IAN_Model is given above\n",
    "    model.load_state_dict(torch.load(model_path, map_location=device))\n",
    "    model.to(device)\n",
    "    \n",
    "\n",
    "    test_dataset = ABSADataset(test_tokenized_path , tokenizer)             #Its implementations should be run before executing this cell \n",
    "    test_loader = DataLoader(test_dataset, batch_size=16, shuffle=False)\n",
    "    \n",
    "\n",
    "    criterion = nn.CrossEntropyLoss()\n",
    "    \n",
    "    \n",
    "    test_loss, test_acc = evaluate_model(model, test_loader, criterion, device)\n",
    "    print(f\"Test Loss: {test_loss:.4f}, Test Accuracy: {test_acc:.4f}\")\n",
    "    return test_acc\n",
    "\n",
    "test_accuracy = test_function(\"best_model.pt\", \"test.json\")\n"
   ]
  },
  {
   "cell_type": "code",
   "execution_count": null,
   "metadata": {},
   "outputs": [],
   "source": [
    "import json\n",
    "import torch\n",
    "import torch.nn as nn\n",
    "from torch.utils.data import Dataset, DataLoader\n",
    "import matplotlib.pyplot as plt\n",
    "from transformers import (BertTokenizer, BertForSequenceClassification, \n",
    "                          BartTokenizer, BartForSequenceClassification, \n",
    "                          RobertaTokenizer, RobertaForSequenceClassification,\n",
    "                          AdamW)\n",
    "import numpy as np\n",
    "from tqdm import tqdm\n",
    "\n",
    "\n",
    "compute_device = torch.device(\"cuda\" if torch.cuda.is_available() else \"cpu\")\n",
    "\n",
    "sentiment_mapping = {\"negative\": 0, \"neutral\": 1, \"positive\": 2}\n",
    "\n",
    "class AspectSentimentDataset(Dataset):\n",
    "    def __init__(self, file_path, tokenizer_model, sequence_length=128):\n",
    "        with open(file_path, 'r') as file:\n",
    "            self.data_samples = json.load(file)\n",
    "        self.tokenizer_model = tokenizer_model\n",
    "        self.sequence_length = sequence_length\n",
    "\n",
    "    def __len__(self):\n",
    "        return len(self.data_samples)\n",
    "    \n",
    "    def __getitem__(self, index):\n",
    "        current_sample = self.data_samples[index]\n",
    "       \n",
    "        full_text = \" \".join(current_sample[\"tokens\"])\n",
    "        \n",
    "        aspect_term = current_sample[\"aspectterm\"][0]\n",
    "        sentiment_text = current_sample[\"polarity\"]\n",
    "        sentiment_id = sentiment_mapping.get(sentiment_text.lower(), 1)  \n",
    "        \n",
    "\n",
    "        token_data = self.tokenizer_model.encode_plus(\n",
    "            text=full_text,\n",
    "            text_pair=aspect_term,\n",
    "            add_special_tokens=True,\n",
    "            max_length=self.sequence_length,\n",
    "            padding='max_length',\n",
    "            truncation=True,\n",
    "            return_tensors='pt'\n",
    "        )\n",
    "        \n",
    "        result_dict = {\n",
    "            \"input_ids\": token_data[\"input_ids\"].squeeze(0),\n",
    "            \"attention_mask\": token_data[\"attention_mask\"].squeeze(0),\n",
    "            \"label\": torch.tensor(sentiment_id, dtype=torch.long)\n",
    "        }\n",
    "        if \"token_type_ids\" in token_data:\n",
    "            result_dict[\"token_type_ids\"] = token_data[\"token_type_ids\"].squeeze(0)\n",
    "        return result_dict\n",
    "\n",
    "def initialize_model_components(model_name, label_count=3):\n",
    "    model_name = model_name.lower()\n",
    "    if model_name == \"bert\":\n",
    "        tokenizer = BertTokenizer.from_pretrained(\"bert-base-uncased\")\n",
    "        model = BertForSequenceClassification.from_pretrained(\"bert-base-uncased\", num_labels=label_count)\n",
    "    elif model_name == \"bart\":\n",
    "        tokenizer = BartTokenizer.from_pretrained(\"facebook/bart-base\")\n",
    "        model = BartForSequenceClassification.from_pretrained(\"facebook/bart-base\", num_labels=label_count)\n",
    "    elif model_name == \"roberta\":\n",
    "        tokenizer = RobertaTokenizer.from_pretrained(\"roberta-base\")\n",
    "        model = RobertaForSequenceClassification.from_pretrained(\"roberta-base\", num_labels=label_count)\n",
    "    else:\n",
    "        raise ValueError(\"Unsupported model_name. Please select from 'bert', 'bart', or 'roberta'.\")\n",
    "    return tokenizer, model\n",
    "\n",
    "\n",
    "def perform_training(model, data_loader, optimizer, device):\n",
    "    model.train()\n",
    "    cumulative_loss = 0.0\n",
    "    correct_predictions = 0\n",
    "    sample_count = 0\n",
    "    \n",
    "    for batch_data in data_loader:\n",
    "        optimizer.zero_grad()\n",
    "        \n",
    "        \n",
    "        model_inputs = {\n",
    "            \"input_ids\": batch_data[\"input_ids\"].to(device),\n",
    "            \"attention_mask\": batch_data[\"attention_mask\"].to(device),\n",
    "            \"labels\": batch_data[\"label\"].to(device)\n",
    "        }\n",
    "        if \"token_type_ids\" in batch_data:\n",
    "            model_inputs[\"token_type_ids\"] = batch_data[\"token_type_ids\"].to(device)\n",
    "            \n",
    "       \n",
    "        output = model(**model_inputs)\n",
    "        batch_loss = output.loss\n",
    "        predictions = output.logits\n",
    "        \n",
    "        \n",
    "        batch_loss.backward()\n",
    "        optimizer.step()\n",
    "        \n",
    "        \n",
    "        batch_size = model_inputs[\"labels\"].size(0)\n",
    "        cumulative_loss += batch_loss.item() * batch_size\n",
    "        prediction_labels = torch.argmax(predictions, dim=1)\n",
    "        correct_predictions += (prediction_labels == model_inputs[\"labels\"]).sum().item()\n",
    "        sample_count += batch_size\n",
    "        \n",
    "   \n",
    "    epoch_loss = cumulative_loss / sample_count\n",
    "    epoch_accuracy = correct_predictions / sample_count\n",
    "    return epoch_loss, epoch_accuracy\n",
    "\n",
    "def assess_performance(model, data_loader, device):\n",
    "    model.eval()\n",
    "    cumulative_loss = 0.0\n",
    "    correct_predictions = 0\n",
    "    sample_count = 0\n",
    "    \n",
    "    with torch.no_grad():\n",
    "        for batch_data in tqdm(data_loader):\n",
    "            model_inputs = {\n",
    "                \"input_ids\": batch_data[\"input_ids\"].to(device),\n",
    "                \"attention_mask\": batch_data[\"attention_mask\"].to(device),\n",
    "                \"labels\": batch_data[\"label\"].to(device)\n",
    "            }\n",
    "            if \"token_type_ids\" in batch_data:\n",
    "                model_inputs[\"token_type_ids\"] = batch_data[\"token_type_ids\"].to(device)\n",
    "                \n",
    "            \n",
    "            output = model(**model_inputs)\n",
    "            batch_loss = output.loss\n",
    "            predictions = output.logits\n",
    "            \n",
    "            \n",
    "            batch_size = model_inputs[\"labels\"].size(0)\n",
    "            cumulative_loss += batch_loss.item() * batch_size\n",
    "            prediction_labels = torch.argmax(predictions, dim=1)\n",
    "            correct_predictions += (prediction_labels == model_inputs[\"labels\"]).sum().item()\n",
    "            sample_count += batch_size\n",
    "            \n",
    "    \n",
    "    epoch_loss = cumulative_loss / sample_count\n",
    "    epoch_accuracy = correct_predictions / sample_count\n",
    "    return epoch_loss, epoch_accuracy\n",
    "\n",
    "def visualize_results(epoch_nums, train_loss_history, val_loss_history, \n",
    "                     train_acc_history, val_acc_history, model_variant):\n",
    "    plt.figure(figsize=(12, 5))\n",
    "    \n",
    "   \n",
    "    plt.subplot(1, 2, 1)\n",
    "    plt.plot(epoch_nums, train_loss_history, 'b-', label=\"Training Loss\")\n",
    "    plt.plot(epoch_nums, val_loss_history, 'r-', label=\"Validation Loss\")\n",
    "    plt.xlabel(\"Training Epoch\")\n",
    "    plt.ylabel(\"Loss Value\")\n",
    "    plt.title(f\"{model_variant.upper()} - Loss Progression\")\n",
    "    plt.legend()\n",
    "    \n",
    "    \n",
    "    plt.subplot(1, 2, 2)\n",
    "    plt.plot(epoch_nums, train_acc_history, 'b-', label=\"Training Accuracy\")\n",
    "    plt.plot(epoch_nums, val_acc_history, 'r-', label=\"Validation Accuracy\")\n",
    "    plt.xlabel(\"Training Epoch\")\n",
    "    plt.ylabel(\"Accuracy\")\n",
    "    plt.title(f\"{model_variant.upper()} - Accuracy Progression\")\n",
    "    plt.legend()\n",
    "    \n",
    "    plt.tight_layout()\n",
    "    plt.savefig(f\"{model_variant}_performance_charts.png\")\n",
    "    plt.show()\n",
    "\n",
    "\n",
    "def run_experiment():\n",
    "    transformer_models = [\"bert\", \"bart\", \"roberta\"]\n",
    "    \n",
    "    for model_idx, model_variant in enumerate(transformer_models):\n",
    "        epochs_to_train = 10\n",
    "        samples_per_batch = 16\n",
    "        optimizer_lr = 2e-5\n",
    "        max_seq_length = 128  \n",
    "        \n",
    "        \n",
    "        tokenizer_model, model_instance = initialize_model_components(model_variant, label_count=3)\n",
    "        model_instance.to(compute_device)\n",
    "        \n",
    "        \n",
    "        training_set = AspectSentimentDataset(\"/kaggle/working/train_task2.json\", \n",
    "                                            tokenizer_model, sequence_length=max_seq_length)\n",
    "        validation_set = AspectSentimentDataset(\"/kaggle/working/val_task2.json\", \n",
    "                                              tokenizer_model, sequence_length=max_seq_length)\n",
    "        \n",
    "        print(f\"Dataset stats for {model_variant.upper()}: Training={len(training_set)}, Validation={len(validation_set)}\")\n",
    "        \n",
    "        \n",
    "        training_loader = DataLoader(training_set, batch_size=samples_per_batch, shuffle=True)\n",
    "        validation_loader = DataLoader(validation_set, batch_size=samples_per_batch, shuffle=False)\n",
    "        \n",
    "        \n",
    "        optimizer = AdamW(model_instance.parameters(), lr=optimizer_lr)\n",
    "        \n",
    "        \n",
    "        highest_val_accuracy = 0.0\n",
    "        best_model_epoch = 0\n",
    "        train_loss_history, train_accuracy_history = [], []\n",
    "        val_loss_history, val_accuracy_history = [], []\n",
    "        \n",
    "        \n",
    "    \n",
    "        for epoch_num in range(epochs_to_train):\n",
    "           \n",
    "            train_epoch_loss, train_epoch_acc = perform_training(\n",
    "                model_instance, training_loader, optimizer, compute_device)\n",
    "            \n",
    "            \n",
    "            val_epoch_loss, val_epoch_acc = assess_performance(\n",
    "                model_instance, validation_loader, compute_device)\n",
    "            \n",
    "            \n",
    "            train_loss_history.append(train_epoch_loss)\n",
    "            train_accuracy_history.append(train_epoch_acc)\n",
    "            val_loss_history.append(val_epoch_loss)\n",
    "            val_accuracy_history.append(val_epoch_acc)\n",
    "            \n",
    "            \n",
    "            print(f\"Epoch {epoch_num+1}/{epochs_to_train} Results:\")\n",
    "            print(f\"Train Loss:{train_epoch_loss:.4f}, Train Acc:{train_epoch_acc:.4f}\")\n",
    "            print(f\"Val Loss:{val_epoch_loss:.4f}, Val Acc:{val_epoch_acc:.4f}\")\n",
    "            \n",
    "            \n",
    "            if val_epoch_acc > highest_val_accuracy:\n",
    "                highest_val_accuracy = val_epoch_acc\n",
    "                best_model_epoch = epoch_num + 1\n",
    "                torch.save(model_instance.state_dict(), f\"best_{model_variant}_model.pt\")\n",
    "                print(f\"Best model updated at epoch {epoch_num+1} with Val Acc: {val_epoch_acc:.4f})\")\n",
    "        \n",
    "        \n",
    "        print(f\"\\n{model_variant.upper()} Training Complete!\")\n",
    "        print(f\"Best model achieved {highest_val_accuracy:.4f} validation accuracy at epoch {best_model_epoch}\")\n",
    "        print(f\"Model saved as 'best_{model_variant}_model.pt'\")\n",
    "        \n",
    "        \n",
    "        epoch_range = np.arange(1, epochs_to_train+1)\n",
    "        visualize_results(epoch_range, train_loss_history, val_loss_history, \n",
    "                         train_accuracy_history, val_accuracy_history, model_variant)\n"
   ]
  },
  {
   "cell_type": "code",
   "execution_count": null,
   "metadata": {
    "execution": {
     "iopub.execute_input": "2025-03-14T14:46:06.725796Z",
     "iopub.status.busy": "2025-03-14T14:46:06.725408Z",
     "iopub.status.idle": "2025-03-14T15:22:48.275054Z",
     "shell.execute_reply": "2025-03-14T15:22:48.274350Z",
     "shell.execute_reply.started": "2025-03-14T14:46:06.725746Z"
    },
    "trusted": true
   },
   "outputs": [
    {
     "name": "stderr",
     "output_type": "stream",
     "text": [
      "Some weights of BertForSequenceClassification were not initialized from the model checkpoint at bert-base-uncased and are newly initialized: ['classifier.bias', 'classifier.weight']\n",
      "You should probably TRAIN this model on a down-stream task to be able to use it for predictions and inference.\n"
     ]
    },
    {
     "name": "stdout",
     "output_type": "stream",
     "text": [
      "Training samples: 2961, Validation samples: 371\n"
     ]
    },
    {
     "name": "stderr",
     "output_type": "stream",
     "text": [
      "100%|██████████| 24/24 [00:02<00:00,  8.52it/s]\n"
     ]
    },
    {
     "name": "stdout",
     "output_type": "stream",
     "text": [
      "Epoch 1/10:\n",
      "  Train Loss: 0.7904, Train Acc: 0.6548\n",
      "  Val Loss: 0.7004, Val Acc: 0.7062\n",
      "  Best model updated at epoch 1 with Val Acc: 0.7062\n"
     ]
    },
    {
     "name": "stderr",
     "output_type": "stream",
     "text": [
      "100%|██████████| 24/24 [00:02<00:00,  8.48it/s]\n"
     ]
    },
    {
     "name": "stdout",
     "output_type": "stream",
     "text": [
      "Epoch 2/10:\n",
      "  Train Loss: 0.5273, Train Acc: 0.7788\n",
      "  Val Loss: 0.5756, Val Acc: 0.7682\n",
      "  Best model updated at epoch 2 with Val Acc: 0.7682\n"
     ]
    },
    {
     "name": "stderr",
     "output_type": "stream",
     "text": [
      "100%|██████████| 24/24 [00:02<00:00,  8.53it/s]\n"
     ]
    },
    {
     "name": "stdout",
     "output_type": "stream",
     "text": [
      "Epoch 3/10:\n",
      "  Train Loss: 0.3583, Train Acc: 0.8544\n",
      "  Val Loss: 0.5872, Val Acc: 0.7439\n"
     ]
    },
    {
     "name": "stderr",
     "output_type": "stream",
     "text": [
      "100%|██████████| 24/24 [00:02<00:00,  8.49it/s]\n"
     ]
    },
    {
     "name": "stdout",
     "output_type": "stream",
     "text": [
      "Epoch 4/10:\n",
      "  Train Loss: 0.2295, Train Acc: 0.9159\n",
      "  Val Loss: 0.6959, Val Acc: 0.7547\n"
     ]
    },
    {
     "name": "stderr",
     "output_type": "stream",
     "text": [
      "100%|██████████| 24/24 [00:02<00:00,  8.49it/s]\n"
     ]
    },
    {
     "name": "stdout",
     "output_type": "stream",
     "text": [
      "Epoch 5/10:\n",
      "  Train Loss: 0.1430, Train Acc: 0.9520\n",
      "  Val Loss: 0.7980, Val Acc: 0.7601\n"
     ]
    },
    {
     "name": "stderr",
     "output_type": "stream",
     "text": [
      "100%|██████████| 24/24 [00:02<00:00,  8.50it/s]\n"
     ]
    },
    {
     "name": "stdout",
     "output_type": "stream",
     "text": [
      "Epoch 6/10:\n",
      "  Train Loss: 0.1066, Train Acc: 0.9656\n",
      "  Val Loss: 0.9108, Val Acc: 0.7628\n"
     ]
    },
    {
     "name": "stderr",
     "output_type": "stream",
     "text": [
      "100%|██████████| 24/24 [00:02<00:00,  8.53it/s]\n"
     ]
    },
    {
     "name": "stdout",
     "output_type": "stream",
     "text": [
      "Epoch 7/10:\n",
      "  Train Loss: 0.0675, Train Acc: 0.9770\n",
      "  Val Loss: 1.0384, Val Acc: 0.7170\n"
     ]
    },
    {
     "name": "stderr",
     "output_type": "stream",
     "text": [
      "100%|██████████| 24/24 [00:02<00:00,  8.51it/s]\n"
     ]
    },
    {
     "name": "stdout",
     "output_type": "stream",
     "text": [
      "Epoch 8/10:\n",
      "  Train Loss: 0.0656, Train Acc: 0.9797\n",
      "  Val Loss: 0.9573, Val Acc: 0.7547\n"
     ]
    },
    {
     "name": "stderr",
     "output_type": "stream",
     "text": [
      "100%|██████████| 24/24 [00:02<00:00,  8.41it/s]\n"
     ]
    },
    {
     "name": "stdout",
     "output_type": "stream",
     "text": [
      "Epoch 9/10:\n",
      "  Train Loss: 0.0610, Train Acc: 0.9801\n",
      "  Val Loss: 1.0296, Val Acc: 0.7682\n"
     ]
    },
    {
     "name": "stderr",
     "output_type": "stream",
     "text": [
      "100%|██████████| 24/24 [00:02<00:00,  8.50it/s]\n"
     ]
    },
    {
     "name": "stdout",
     "output_type": "stream",
     "text": [
      "Epoch 10/10:\n",
      "  Train Loss: 0.0593, Train Acc: 0.9804\n",
      "  Val Loss: 0.9437, Val Acc: 0.7466\n",
      "Training complete. Best model (Val Acc: 0.7682) from epoch 2 saved as 'best_model_bert.pt'.\n"
     ]
    },
    {
     "data": {
      "image/png": "[encoded data removed]",
      "text/plain": [
       "<Figure size 1200x500 with 2 Axes>"
      ]
     },
     "metadata": {},
     "output_type": "display_data"
    },
    {
     "data": {
      "application/vnd.jupyter.widget-view+json": {
       "model_id": "4ab029ebd9ca489692f05cfaeece8460",
       "version_major": 2,
       "version_minor": 0
      },
      "text/plain": [
       "vocab.json:   0%|          | 0.00/899k [00:00<?, ?B/s]"
      ]
     },
     "metadata": {},
     "output_type": "display_data"
    },
    {
     "data": {
      "application/vnd.jupyter.widget-view+json": {
       "model_id": "e123f20a43a1446ca6e45ed6ba410a99",
       "version_major": 2,
       "version_minor": 0
      },
      "text/plain": [
       "merges.txt:   0%|          | 0.00/456k [00:00<?, ?B/s]"
      ]
     },
     "metadata": {},
     "output_type": "display_data"
    },
    {
     "data": {
      "application/vnd.jupyter.widget-view+json": {
       "model_id": "a10559faf0fc4e93a265a6d44071ce01",
       "version_major": 2,
       "version_minor": 0
      },
      "text/plain": [
       "tokenizer.json:   0%|          | 0.00/1.36M [00:00<?, ?B/s]"
      ]
     },
     "metadata": {},
     "output_type": "display_data"
    },
    {
     "data": {
      "application/vnd.jupyter.widget-view+json": {
       "model_id": "4e0d7c75cdbc4772803fed6ec9a1a120",
       "version_major": 2,
       "version_minor": 0
      },
      "text/plain": [
       "config.json:   0%|          | 0.00/1.72k [00:00<?, ?B/s]"
      ]
     },
     "metadata": {},
     "output_type": "display_data"
    },
    {
     "data": {
      "application/vnd.jupyter.widget-view+json": {
       "model_id": "dc8a72e54cc8403083cf13bb56eba65a",
       "version_major": 2,
       "version_minor": 0
      },
      "text/plain": [
       "model.safetensors:   0%|          | 0.00/558M [00:00<?, ?B/s]"
      ]
     },
     "metadata": {},
     "output_type": "display_data"
    },
    {
     "name": "stderr",
     "output_type": "stream",
     "text": [
      "Some weights of BartForSequenceClassification were not initialized from the model checkpoint at facebook/bart-base and are newly initialized: ['classification_head.dense.bias', 'classification_head.dense.weight', 'classification_head.out_proj.bias', 'classification_head.out_proj.weight']\n",
      "You should probably TRAIN this model on a down-stream task to be able to use it for predictions and inference.\n"
     ]
    },
    {
     "name": "stdout",
     "output_type": "stream",
     "text": [
      "Training samples: 2961, Validation samples: 371\n"
     ]
    },
    {
     "name": "stderr",
     "output_type": "stream",
     "text": [
      "100%|██████████| 24/24 [00:03<00:00,  7.32it/s]\n"
     ]
    },
    {
     "name": "stdout",
     "output_type": "stream",
     "text": [
      "Epoch 1/10:\n",
      "  Train Loss: 0.7733, Train Acc: 0.6643\n",
      "  Val Loss: 0.6662, Val Acc: 0.6954\n",
      "  Best model updated at epoch 1 with Val Acc: 0.6954\n"
     ]
    },
    {
     "name": "stderr",
     "output_type": "stream",
     "text": [
      "100%|██████████| 24/24 [00:03<00:00,  7.35it/s]\n"
     ]
    },
    {
     "name": "stdout",
     "output_type": "stream",
     "text": [
      "Epoch 2/10:\n",
      "  Train Loss: 0.5507, Train Acc: 0.7768\n",
      "  Val Loss: 0.5899, Val Acc: 0.7412\n",
      "  Best model updated at epoch 2 with Val Acc: 0.7412\n"
     ]
    },
    {
     "name": "stderr",
     "output_type": "stream",
     "text": [
      "100%|██████████| 24/24 [00:03<00:00,  7.32it/s]\n"
     ]
    },
    {
     "name": "stdout",
     "output_type": "stream",
     "text": [
      "Epoch 3/10:\n",
      "  Train Loss: 0.4273, Train Acc: 0.8386\n",
      "  Val Loss: 0.6102, Val Acc: 0.7143\n"
     ]
    },
    {
     "name": "stderr",
     "output_type": "stream",
     "text": [
      "100%|██████████| 24/24 [00:03<00:00,  7.34it/s]\n"
     ]
    },
    {
     "name": "stdout",
     "output_type": "stream",
     "text": [
      "Epoch 4/10:\n",
      "  Train Loss: 0.3641, Train Acc: 0.8622\n",
      "  Val Loss: 0.6402, Val Acc: 0.7332\n"
     ]
    },
    {
     "name": "stderr",
     "output_type": "stream",
     "text": [
      "100%|██████████| 24/24 [00:03<00:00,  7.31it/s]\n"
     ]
    },
    {
     "name": "stdout",
     "output_type": "stream",
     "text": [
      "Epoch 5/10:\n",
      "  Train Loss: 0.3603, Train Acc: 0.8629\n",
      "  Val Loss: 0.7244, Val Acc: 0.7547\n",
      "  Best model updated at epoch 5 with Val Acc: 0.7547\n"
     ]
    },
    {
     "name": "stderr",
     "output_type": "stream",
     "text": [
      "100%|██████████| 24/24 [00:03<00:00,  7.34it/s]\n"
     ]
    },
    {
     "name": "stdout",
     "output_type": "stream",
     "text": [
      "Epoch 6/10:\n",
      "  Train Loss: 0.3871, Train Acc: 0.8497\n",
      "  Val Loss: 0.7210, Val Acc: 0.7520\n"
     ]
    },
    {
     "name": "stderr",
     "output_type": "stream",
     "text": [
      "100%|██████████| 24/24 [00:03<00:00,  7.30it/s]\n"
     ]
    },
    {
     "name": "stdout",
     "output_type": "stream",
     "text": [
      "Epoch 7/10:\n",
      "  Train Loss: 0.3374, Train Acc: 0.8696\n",
      "  Val Loss: 0.8287, Val Acc: 0.7709\n",
      "  Best model updated at epoch 7 with Val Acc: 0.7709\n"
     ]
    },
    {
     "name": "stderr",
     "output_type": "stream",
     "text": [
      "100%|██████████| 24/24 [00:03<00:00,  7.35it/s]\n"
     ]
    },
    {
     "name": "stdout",
     "output_type": "stream",
     "text": [
      "Epoch 8/10:\n",
      "  Train Loss: 0.3026, Train Acc: 0.8875\n",
      "  Val Loss: 0.7758, Val Acc: 0.7439\n"
     ]
    },
    {
     "name": "stderr",
     "output_type": "stream",
     "text": [
      "100%|██████████| 24/24 [00:03<00:00,  7.31it/s]\n"
     ]
    },
    {
     "name": "stdout",
     "output_type": "stream",
     "text": [
      "Epoch 9/10:\n",
      "  Train Loss: 0.2295, Train Acc: 0.9105\n",
      "  Val Loss: 0.8049, Val Acc: 0.7736\n",
      "  Best model updated at epoch 9 with Val Acc: 0.7736\n"
     ]
    },
    {
     "name": "stderr",
     "output_type": "stream",
     "text": [
      "100%|██████████| 24/24 [00:03<00:00,  7.31it/s]\n"
     ]
    },
    {
     "name": "stdout",
     "output_type": "stream",
     "text": [
      "Epoch 10/10:\n",
      "  Train Loss: 0.1963, Train Acc: 0.9210\n",
      "  Val Loss: 0.8587, Val Acc: 0.7574\n",
      "Training complete. Best model (Val Acc: 0.7736) from epoch 9 saved as 'best_model_bart.pt'.\n"
     ]
    },
    {
     "data": {
      "image/png": "[encoded data removed]",
      "text/plain": [
       "<Figure size 1200x500 with 2 Axes>"
      ]
     },
     "metadata": {},
     "output_type": "display_data"
    },
    {
     "data": {
      "application/vnd.jupyter.widget-view+json": {
       "model_id": "e734164fa4fa41f8aa8623a3f12cc337",
       "version_major": 2,
       "version_minor": 0
      },
      "text/plain": [
       "tokenizer_config.json:   0%|          | 0.00/25.0 [00:00<?, ?B/s]"
      ]
     },
     "metadata": {},
     "output_type": "display_data"
    },
    {
     "data": {
      "application/vnd.jupyter.widget-view+json": {
       "model_id": "d20c077c630c4902868be354d301fd8e",
       "version_major": 2,
       "version_minor": 0
      },
      "text/plain": [
       "vocab.json:   0%|          | 0.00/899k [00:00<?, ?B/s]"
      ]
     },
     "metadata": {},
     "output_type": "display_data"
    },
    {
     "data": {
      "application/vnd.jupyter.widget-view+json": {
       "model_id": "46321c99207646549f9bdb99e519bb57",
       "version_major": 2,
       "version_minor": 0
      },
      "text/plain": [
       "merges.txt:   0%|          | 0.00/456k [00:00<?, ?B/s]"
      ]
     },
     "metadata": {},
     "output_type": "display_data"
    },
    {
     "data": {
      "application/vnd.jupyter.widget-view+json": {
       "model_id": "b167dd917b784bdd9ddcd5b4651a3b65",
       "version_major": 2,
       "version_minor": 0
      },
      "text/plain": [
       "tokenizer.json:   0%|          | 0.00/1.36M [00:00<?, ?B/s]"
      ]
     },
     "metadata": {},
     "output_type": "display_data"
    },
    {
     "data": {
      "application/vnd.jupyter.widget-view+json": {
       "model_id": "81ff7938511a4dc2aaefd20fdd7d19a4",
       "version_major": 2,
       "version_minor": 0
      },
      "text/plain": [
       "config.json:   0%|          | 0.00/481 [00:00<?, ?B/s]"
      ]
     },
     "metadata": {},
     "output_type": "display_data"
    },
    {
     "data": {
      "application/vnd.jupyter.widget-view+json": {
       "model_id": "e27741ccb6da482f978f948b87a5be91",
       "version_major": 2,
       "version_minor": 0
      },
      "text/plain": [
       "model.safetensors:   0%|          | 0.00/499M [00:00<?, ?B/s]"
      ]
     },
     "metadata": {},
     "output_type": "display_data"
    },
    {
     "name": "stderr",
     "output_type": "stream",
     "text": [
      "Some weights of RobertaForSequenceClassification were not initialized from the model checkpoint at roberta-base and are newly initialized: ['classifier.dense.bias', 'classifier.dense.weight', 'classifier.out_proj.bias', 'classifier.out_proj.weight']\n",
      "You should probably TRAIN this model on a down-stream task to be able to use it for predictions and inference.\n"
     ]
    },
    {
     "name": "stdout",
     "output_type": "stream",
     "text": [
      "Training samples: 2961, Validation samples: 371\n"
     ]
    },
    {
     "name": "stderr",
     "output_type": "stream",
     "text": [
      "100%|██████████| 24/24 [00:02<00:00,  9.49it/s]\n"
     ]
    },
    {
     "name": "stdout",
     "output_type": "stream",
     "text": [
      "Epoch 1/10:\n",
      "  Train Loss: 0.7542, Train Acc: 0.6798\n",
      "  Val Loss: 0.6880, Val Acc: 0.7062\n",
      "  Best model updated at epoch 1 with Val Acc: 0.7062\n"
     ]
    },
    {
     "name": "stderr",
     "output_type": "stream",
     "text": [
      "100%|██████████| 24/24 [00:02<00:00,  9.44it/s]\n"
     ]
    },
    {
     "name": "stdout",
     "output_type": "stream",
     "text": [
      "Epoch 2/10:\n",
      "  Train Loss: 0.5050, Train Acc: 0.7950\n",
      "  Val Loss: 0.6221, Val Acc: 0.7520\n",
      "  Best model updated at epoch 2 with Val Acc: 0.7520\n"
     ]
    },
    {
     "name": "stderr",
     "output_type": "stream",
     "text": [
      "100%|██████████| 24/24 [00:02<00:00,  9.50it/s]\n"
     ]
    },
    {
     "name": "stdout",
     "output_type": "stream",
     "text": [
      "Epoch 3/10:\n",
      "  Train Loss: 0.3417, Train Acc: 0.8652\n",
      "  Val Loss: 0.7405, Val Acc: 0.7493\n"
     ]
    },
    {
     "name": "stderr",
     "output_type": "stream",
     "text": [
      "100%|██████████| 24/24 [00:02<00:00,  9.39it/s]\n"
     ]
    },
    {
     "name": "stdout",
     "output_type": "stream",
     "text": [
      "Epoch 4/10:\n",
      "  Train Loss: 0.2406, Train Acc: 0.9112\n",
      "  Val Loss: 0.7126, Val Acc: 0.7116\n"
     ]
    },
    {
     "name": "stderr",
     "output_type": "stream",
     "text": [
      "100%|██████████| 24/24 [00:02<00:00,  9.46it/s]\n"
     ]
    },
    {
     "name": "stdout",
     "output_type": "stream",
     "text": [
      "Epoch 5/10:\n",
      "  Train Loss: 0.1740, Train Acc: 0.9358\n",
      "  Val Loss: 0.7533, Val Acc: 0.7682\n",
      "  Best model updated at epoch 5 with Val Acc: 0.7682\n"
     ]
    },
    {
     "name": "stderr",
     "output_type": "stream",
     "text": [
      "100%|██████████| 24/24 [00:02<00:00,  9.44it/s]\n"
     ]
    },
    {
     "name": "stdout",
     "output_type": "stream",
     "text": [
      "Epoch 6/10:\n",
      "  Train Loss: 0.1280, Train Acc: 0.9541\n",
      "  Val Loss: 0.8638, Val Acc: 0.7574\n"
     ]
    },
    {
     "name": "stderr",
     "output_type": "stream",
     "text": [
      "100%|██████████| 24/24 [00:02<00:00,  9.50it/s]\n"
     ]
    },
    {
     "name": "stdout",
     "output_type": "stream",
     "text": [
      "Epoch 7/10:\n",
      "  Train Loss: 0.0969, Train Acc: 0.9669\n",
      "  Val Loss: 0.8137, Val Acc: 0.7682\n"
     ]
    },
    {
     "name": "stderr",
     "output_type": "stream",
     "text": [
      "100%|██████████| 24/24 [00:02<00:00,  9.47it/s]\n"
     ]
    },
    {
     "name": "stdout",
     "output_type": "stream",
     "text": [
      "Epoch 8/10:\n",
      "  Train Loss: 0.0806, Train Acc: 0.9750\n",
      "  Val Loss: 0.8934, Val Acc: 0.7790\n",
      "  Best model updated at epoch 8 with Val Acc: 0.7790\n"
     ]
    },
    {
     "name": "stderr",
     "output_type": "stream",
     "text": [
      "100%|██████████| 24/24 [00:02<00:00,  9.47it/s]\n"
     ]
    },
    {
     "name": "stdout",
     "output_type": "stream",
     "text": [
      "Epoch 9/10:\n",
      "  Train Loss: 0.0512, Train Acc: 0.9811\n",
      "  Val Loss: 1.3162, Val Acc: 0.7224\n"
     ]
    },
    {
     "name": "stderr",
     "output_type": "stream",
     "text": [
      "100%|██████████| 24/24 [00:02<00:00,  9.46it/s]\n"
     ]
    },
    {
     "name": "stdout",
     "output_type": "stream",
     "text": [
      "Epoch 10/10:\n",
      "  Train Loss: 0.0598, Train Acc: 0.9791\n",
      "  Val Loss: 1.0600, Val Acc: 0.7547\n",
      "Training complete. Best model (Val Acc: 0.7790) from epoch 8 saved as 'best_model_roberta.pt'.\n"
     ]
    },
    {
     "data": {
      "image/png": "[encoded data removed]",
      "text/plain": [
       "<Figure size 1200x500 with 2 Axes>"
      ]
     },
     "metadata": {},
     "output_type": "display_data"
    }
   ],
   "source": [
    "run_experiment()"
   ]
  }
 ],
 "metadata": {
  "kaggle": {
   "accelerator": "nvidiaTeslaT4",
   "dataSources": [
    {
     "datasetId": 6862589,
     "sourceId": 11020842,
     "sourceType": "datasetVersion"
    }
   ],
   "dockerImageVersionId": 30919,
   "isGpuEnabled": true,
   "isInternetEnabled": true,
   "language": "python",
   "sourceType": "notebook"
  },
  "kernelspec": {
   "display_name": "Python 3",
   "language": "python",
   "name": "python3"
  },
  "language_info": {
   "codemirror_mode": {
    "name": "ipython",
    "version": 3
   },
   "file_extension": ".py",
   "mimetype": "text/x-python",
   "name": "python",
   "nbconvert_exporter": "python",
   "pygments_lexer": "ipython3",
   "version": "3.10.12"
  }
 },
 "nbformat": 4,
 "nbformat_minor": 4
}
